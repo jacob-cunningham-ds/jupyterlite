{
 "cells": [
  {
   "cell_type": "markdown",
   "id": "5192c274-f821-48e3-a956-b73b7227b6f4",
   "metadata": {},
   "source": [
    "---\n",
    "# Notebook metadata\n",
    "title: Title of the notebook\n",
    "subtitle: Subtitle of the notebook\n",
    "date: 2024-09-01\n",
    "subject: Subject\n",
    "venue: Venue\n",
    "\n",
    "# Access and use metadata\n",
    "license: CC-BY-4.0\n",
    "open_access: true\n",
    "\n",
    "# Author metadata\n",
    "authors:\n",
    "  - name: John Doe\n",
    "    email: johndoe@email.com\n",
    "    github: john-doe-githubusername\n",
    "\n",
    "# List of abbreviations\n",
    "abbreviations:\n",
    "---"
   ]
  },
  {
   "cell_type": "markdown",
   "id": "b608dc5d-37ff-4e4e-84b8-a75dc0f85311",
   "metadata": {},
   "source": [
    "::::{tab-set}\n",
    ":::{tab-item} Abstract\n",
    "\\\n",
    "The abstract of the notebook goes here. Lorem ipsum odor amet, consectetuer adipiscing elit. Nunc duis orci leo odio dolor. Vitae turpis nisi arcu nunc ligula mus conubia habitasse. Netus montes sociosqu dolor; vel massa cursus himenaeos eros orci. Massa porta suscipit habitasse conubia etiam aliquet blandit. Amet condimentum semper ullamcorper conubia malesuada; imperdiet tellus orci. Class phasellus ac ut erat cubilia id nunc nostra. Maecenas facilisis semper libero primis per. Natoque nunc vitae habitant cubilia egestas tempor.\n",
    ":::\n",
    ":::{tab-item} Requirements\n",
    "\\\n",
    "The `requirements.txt` or `environment.yml` link goes here.\n",
    ":::\n",
    "::::"
   ]
  },
  {
   "cell_type": "markdown",
   "id": "990b44c0-df2a-4586-96ce-2a5fa43e43b5",
   "metadata": {},
   "source": [
    "## Required Libraries"
   ]
  },
  {
   "cell_type": "code",
   "execution_count": 3,
   "id": "183305ab-91e9-49ca-8ef7-bae655b42758",
   "metadata": {},
   "outputs": [],
   "source": [
    "# import necessary libraries for notebook\n",
    "import numpy as np\n",
    "import pandas as pd\n",
    "import matplotlib.pyplot as plt"
   ]
  },
  {
   "cell_type": "markdown",
   "id": "a9870de3-d3da-4a17-aca3-52673b6fb4b6",
   "metadata": {},
   "source": [
    "\n",
    "---"
   ]
  },
  {
   "cell_type": "markdown",
   "id": "324483f1-7141-48ba-a11a-03073e5709f5",
   "metadata": {},
   "source": [
    "## Main Content\n",
    "\n",
    "Use this section to present the main body of your article. Begin with an introduction to the topic or purpose of the notebook. Follow with methods, data, or materials used in your analysis. Present your key results, including visualizations or tables as needed."
   ]
  },
  {
   "cell_type": "markdown",
   "id": "a0e35789-0ba9-4cbc-b253-797eb09e9bbf",
   "metadata": {},
   "source": [
    "## Conclusion\n",
    "\n",
    "Conclude with a brief discussion or summary of the findings."
   ]
  },
  {
   "cell_type": "markdown",
   "id": "c4aa8b8c-8c19-4362-8e69-9a8fc69980cb",
   "metadata": {},
   "source": [
    "\n",
    "---"
   ]
  },
  {
   "cell_type": "markdown",
   "id": "81ce7430-7f39-4286-84a0-7d5700ede2ef",
   "metadata": {},
   "source": [
    "## Glossary\n",
    "\n",
    ":::{glossary}\n",
    "Term 1\n",
    ": The definition of term 1\n",
    "\n",
    "Term 2\n",
    ": The definition of term 2\n",
    ":::"
   ]
  }
 ],
 "metadata": {
  "kernelspec": {
   "display_name": "Python 3 (ipykernel)",
   "language": "python",
   "name": "python3"
  },
  "language_info": {
   "codemirror_mode": {
    "name": "ipython",
    "version": 3
   },
   "file_extension": ".py",
   "mimetype": "text/x-python",
   "name": "python",
   "nbconvert_exporter": "python",
   "pygments_lexer": "ipython3",
   "version": "3.12.7"
  }
 },
 "nbformat": 4,
 "nbformat_minor": 5
}
