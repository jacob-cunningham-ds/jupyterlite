{
 "cells": [
  {
   "cell_type": "markdown",
   "id": "5192c274-f821-48e3-a956-b73b7227b6f4",
   "metadata": {},
   "source": [
    "---\n",
    "# Notebook metadata\n",
    "title: Title of the notebook\n",
    "subtitle: Subtitle of the notebook\n",
    "date: 2024-09-01\n",
    "subject: Subject\n",
    "venue: Venue\n",
    "\n",
    "# Access and use metadata\n",
    "license: CC-BY-4.0\n",
    "open_access: true\n",
    "\n",
    "# Author metadata\n",
    "authors:\n",
    "  - name: John Doe\n",
    "    email: johndoe@Email.com\n",
    "    github: john-doe-githubusername\n",
    "\n",
    "# List of abbreviations\n",
    "abbreviations:\n",
    "---"
   ]
  },
  {
   "cell_type": "markdown",
   "id": "b608dc5d-37ff-4e4e-84b8-a75dc0f85311",
   "metadata": {},
   "source": [
    "::::{tab-set}\n",
    ":::{tab-item} Abstract\n",
    "\\\n",
    "The abstract of the notebook goes here. Lorem ipsum odor amet, consectetuer adipiscing elit. Nunc duis orci leo odio dolor. Vitae turpis nisi arcu nunc ligula mus conubia habitasse. Netus montes sociosqu dolor; vel massa cursus himenaeos eros orci. Massa porta suscipit habitasse conubia etiam aliquet blandit. Amet condimentum semper ullamcorper conubia malesuada; imperdiet tellus orci. Class phasellus ac ut erat cubilia id nunc nostra. Maecenas facilisis semper libero primis per. Natoque nunc vitae habitant cubilia egestas tempor.\n",
    ":::\n",
    ":::{tab-item} Requirements\n",
    "\\\n",
    "The `requirements.txt` or `environment.yml` link goes here.\n",
    ":::\n",
    "::::"
   ]
  },
  {
   "cell_type": "markdown",
   "id": "990b44c0-df2a-4586-96ce-2a5fa43e43b5",
   "metadata": {},
   "source": [
    "## Required Libraries"
   ]
  },
  {
   "cell_type": "code",
   "execution_count": 1,
   "id": "183305ab-91e9-49ca-8ef7-bae655b42758",
   "metadata": {},
   "outputs": [],
   "source": [
    "# import necessary libraries for notebook\n",
    "import numpy as np\n",
    "import sympy as sp\n",
    "import matplotlib.pyplot as plt"
   ]
  },
  {
   "cell_type": "markdown",
   "id": "a9870de3-d3da-4a17-aca3-52673b6fb4b6",
   "metadata": {},
   "source": [
    "\n",
    "---"
   ]
  },
  {
   "cell_type": "markdown",
   "id": "324483f1-7141-48ba-a11a-03073e5709f5",
   "metadata": {},
   "source": [
    "### Simple"
   ]
  },
  {
   "cell_type": "markdown",
   "id": "ae5a0fb8-0601-424f-a7a6-7addc518a4bf",
   "metadata": {},
   "source": [
    "Find the value of $x$ that minimizes $y(x)$, or more formally, find $\\argmin_{x}y(x)$.\n",
    "\n",
    "$$\n",
    "\\begin{equation*}\n",
    "y(x) = 10(x - 2)^{2} + 2 \\qquad \\{ x \\in \\mathbb{R} \\mid 0 \\leq x \\leq 10 \\}\n",
    "\\end{equation*}\n",
    "$$\n",
    "\n",
    "If you recall from [algebra](https://tutorial.math.lamar.edu/Classes/Alg/Parabolas.aspx) that this is a parabola in its standard form:\n",
    "\n",
    "$$\n",
    "\\begin{equation*}\n",
    "y(x) = a(x - h)^{2} + k\n",
    "\\end{equation*}\n",
    "$$\n",
    "\n",
    "where the vertex is $(h, k)$. Since $a > 0$ the parabola opens up meaning the vertex is the minimum point. Therefore, $\\argmin_{x} y(x) = h = 2$.\n",
    "\n",
    "Let's suppose we didn't recognize that the equation is in standard form. We could use [calculus](https://tutorial.math.lamar.edu/Classes/CalcI/MinMaxValues.aspx) to find the critical point(s) and determine the absolute minimum given that $x$ is bounded within a closed interval.\n",
    "\n",
    "One way to do that is to use SymPy to carry out symbolic calculations."
   ]
  },
  {
   "cell_type": "code",
   "execution_count": 13,
   "id": "bc7e5a53-b82d-4449-bf98-107a719c0a23",
   "metadata": {},
   "outputs": [
    {
     "name": "stdout",
     "output_type": "stream",
     "text": [
      "The argmin is: 2\n"
     ]
    }
   ],
   "source": [
    "# define the constants\n",
    "a, h, k = 10, 2, 2\n",
    "\n",
    "# define the symbolic variable\n",
    "x = sp.symbols('x')\n",
    "\n",
    "# define the symbolic function\n",
    "y = a*(x - h)**2 + k\n",
    "\n",
    "# symbolically differentiate the function\n",
    "dy_dx = sp.diff(y, x)\n",
    "\n",
    "# find the root(s) of the derivative\n",
    "roots = sp.solve(dy_dx, x)\n",
    "\n",
    "# find the start point value\n",
    "start = 0\n",
    "y_start = y.subs(x, start)\n",
    "\n",
    "# find the end point value\n",
    "end = 10\n",
    "y_end = y.subs(x, end)\n",
    "\n",
    "# initialize a list to house the remaining roots\n",
    "eval_points = [(start, y_start), (end, y_end)]\n",
    "\n",
    "# iterate through the roots and add them to the list\n",
    "for root in roots:\n",
    "    if start <= root <= end:  # verify root is in interval\n",
    "        eval_points.append((root, y.subs(x, root)))\n",
    "\n",
    "# return the argmin\n",
    "argmin, _ = min(eval_points, key=lambda t: t[1])\n",
    "print(f\"The argmin is: {argmin}\")"
   ]
  },
  {
   "cell_type": "markdown",
   "id": "71664805-c09e-48f1-9bb6-d26e8cc4e046",
   "metadata": {},
   "source": [
    "A (somewhat) less accurate but (much) more efficient way is to use NumPy."
   ]
  },
  {
   "cell_type": "code",
   "execution_count": 14,
   "id": "01e95477-85e7-4249-9dc5-d687dd1411df",
   "metadata": {
    "scrolled": true
   },
   "outputs": [
    {
     "name": "stdout",
     "output_type": "stream",
     "text": [
      "The argmin is: 2.000200020002\n"
     ]
    }
   ],
   "source": [
    "# generate num equally spaced x values between 0 and 10\n",
    "x = np.linspace(0, 10, num=10000)\n",
    "\n",
    "# define the constants\n",
    "a, h, k = 10, 2, 2\n",
    "\n",
    "# compute the output values\n",
    "y = a * (x - h)**2 + k\n",
    "\n",
    "# find the index of the minimum output value\n",
    "min_index = np.argmin(y)\n",
    "\n",
    "# return the argmin\n",
    "argmin = x[min_index]\n",
    "print(f\"The argmin is: {argmin}\")"
   ]
  },
  {
   "cell_type": "markdown",
   "id": "a0e35789-0ba9-4cbc-b253-797eb09e9bbf",
   "metadata": {},
   "source": [
    "## Conclusion\n",
    "\n",
    "Conclude with a brief discussion or summary of the findings."
   ]
  },
  {
   "cell_type": "markdown",
   "id": "c4aa8b8c-8c19-4362-8e69-9a8fc69980cb",
   "metadata": {},
   "source": [
    "\n",
    "---"
   ]
  },
  {
   "cell_type": "markdown",
   "id": "81ce7430-7f39-4286-84a0-7d5700ede2ef",
   "metadata": {},
   "source": [
    "## Glossary\n",
    "\n",
    ":::{glossary}\n",
    "Term 1\n",
    ": The definition of term 1\n",
    "\n",
    "Term 2\n",
    ": The definition of term 2\n",
    ":::"
   ]
  }
 ],
 "metadata": {
  "kernelspec": {
   "display_name": "Python 3 (ipykernel)",
   "language": "python",
   "name": "python3"
  },
  "language_info": {
   "codemirror_mode": {
    "name": "ipython",
    "version": 3
   },
   "file_extension": ".py",
   "mimetype": "text/x-python",
   "name": "python",
   "nbconvert_exporter": "python",
   "pygments_lexer": "ipython3",
   "version": "3.12.7"
  }
 },
 "nbformat": 4,
 "nbformat_minor": 5
}
